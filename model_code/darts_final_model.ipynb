{
 "cells": [
  {
   "cell_type": "code",
   "execution_count": null,
   "metadata": {},
   "outputs": [],
   "source": [
    "import pandas as pd\n",
    "import numpy as np \n",
    "import matplotlib.pyplot as plt \n",
    "from darts import TimeSeries\n",
    "from darts.models import NBEATSModel\n",
    "from darts import datasets\n",
    "\n",
    "from darts.metrics import mape, smape, mae\n",
    "from darts.dataprocessing.transformers import Scaler\n",
    "import nsepy\n",
    "from datetime import date"
   ]
  },
  {
   "cell_type": "code",
   "execution_count": null,
   "metadata": {},
   "outputs": [],
   "source": [
    "nifty100list = pd.read_csv('ind_nifty100list.csv')['Symbol']\n",
    "nifty100list = np.array(nifty100list)"
   ]
  },
  {
   "cell_type": "code",
   "execution_count": null,
   "metadata": {},
   "outputs": [],
   "source": [
    "dictClose = {}\n",
    "for i in nifty100list:\n",
    "    df = pd.DataFrame(nsepy.get_history(symbol = nifty100list[0], start = date(2020, 10, 1), end = date.today() ))['Close']\n",
    "    df = np.array(df)\n",
    "    df = TimeSeries.from_values(df, columns=None, fillna_value=None, static_covariates=None, hierarchy=None)\n",
    "    dictClose[i] = df"
   ]
  },
  {
   "cell_type": "code",
   "execution_count": null,
   "metadata": {},
   "outputs": [],
   "source": [
    "totallist = []\n",
    "scalerdict = {}\n",
    "for i in dictClose:\n",
    "    datascaler = Scaler()\n",
    "    dictClose[i] = datascaler.fit_transform(dictClose[i])\n",
    "    scalerdict[i] = datascaler\n",
    "    totallist.append(dictClose[i])"
   ]
  },
  {
   "cell_type": "code",
   "execution_count": null,
   "metadata": {},
   "outputs": [],
   "source": [
    "finalmodel = NBEATSModel(input_chunk_length = 150, output_chunk_length = 30, n_epochs = 200, random_state = 0)"
   ]
  },
  {
   "cell_type": "code",
   "execution_count": null,
   "metadata": {},
   "outputs": [],
   "source": [
    "finalmodel.fit(totallist, verbose=True)"
   ]
  },
  {
   "cell_type": "code",
   "execution_count": null,
   "metadata": {},
   "outputs": [],
   "source": [
    "# can we train model by different name and predict by different name ???\n",
    "#\"YES\"\n",
    "# from now save model by model.save in darts in pt format \n",
    "# and load model by \n",
    "finalmodel.save('final_model.pt')\n"
   ]
  }
 ],
 "metadata": {
  "language_info": {
   "name": "python"
  },
  "orig_nbformat": 4
 },
 "nbformat": 4,
 "nbformat_minor": 2
}
